{
 "cells": [
  {
   "cell_type": "code",
   "execution_count": 1,
   "metadata": {
    "collapsed": true
   },
   "outputs": [
    {
     "name": "stdout",
     "output_type": "stream",
     "text": [
      "/home/linus/Dokumente/Studium/Master/Amsterdam/02_DisSys/Project/CloudScheduling/plotter_4_cloud\n"
     ]
    }
   ],
   "source": [
    "import os\n",
    "import sys\n",
    "#TO RUN IN HOMEENV I NEED THIS... MIGHT HAVE TO REMOVE\n",
    "sys.path.append(\"..\")\n",
    "import plotters\n",
    "import reader\n",
    "from DataTransformer import DataTransformer\n",
    "\n",
    "%load_ext autoreload\n",
    "%autoreload 2\n",
    "\n",
    "os.chdir('../') # work from project root so the reader gets the right paths\n",
    "print(os.getcwd())"
   ]
  },
  {
   "cell_type": "code",
   "execution_count": 2,
   "metadata": {
    "collapsed": false,
    "pycharm": {
     "name": "#%%\n"
    }
   },
   "outputs": [],
   "source": [
    "data = reader.sort_dfs([\"Min-Min\",])\n",
    "transformer = DataTransformer(data)"
   ]
  },
  {
   "cell_type": "markdown",
   "metadata": {
    "collapsed": false,
    "pycharm": {
     "name": "#%% md\n"
    }
   },
   "source": [
    "# ECDF for makespan"
   ]
  },
  {
   "cell_type": "code",
   "execution_count": 3,
   "metadata": {
    "collapsed": false,
    "pycharm": {
     "name": "#%%\n"
    }
   },
   "outputs": [
    {
     "ename": "KeyError",
     "evalue": "'askalon-ee2-parquet'",
     "output_type": "error",
     "traceback": [
      "\u001B[0;31m---------------------------------------------------------------------------\u001B[0m",
      "\u001B[0;31mKeyError\u001B[0m                                  Traceback (most recent call last)",
      "\u001B[0;32m/tmp/ipykernel_469554/2184993890.py\u001B[0m in \u001B[0;36m<module>\u001B[0;34m\u001B[0m\n\u001B[0;32m----> 1\u001B[0;31m \u001B[0mecdf_data\u001B[0m\u001B[0;34m,\u001B[0m \u001B[0mecdf_meta\u001B[0m \u001B[0;34m=\u001B[0m \u001B[0mtransformer\u001B[0m\u001B[0;34m.\u001B[0m\u001B[0mto_makespan_cdf_per_policy\u001B[0m\u001B[0;34m(\u001B[0m\u001B[0;34m\"askalon-ee2-parquet\"\u001B[0m\u001B[0;34m,\u001B[0m \u001B[0;34m\"homogeneous\"\u001B[0m\u001B[0;34m,\u001B[0m \u001B[0;34m\"exp_scale_ecdf.png\"\u001B[0m\u001B[0;34m)\u001B[0m\u001B[0;34m\u001B[0m\u001B[0;34m\u001B[0m\u001B[0m\n\u001B[0m\u001B[1;32m      2\u001B[0m \u001B[0;34m\u001B[0m\u001B[0m\n\u001B[1;32m      3\u001B[0m \u001B[0mplotters\u001B[0m\u001B[0;34m.\u001B[0m\u001B[0mcreate_makespan_cdf_order_policy\u001B[0m\u001B[0;34m(\u001B[0m\u001B[0mecdf_data\u001B[0m\u001B[0;34m,\u001B[0m \u001B[0mecdf_meta\u001B[0m\u001B[0;34m)\u001B[0m\u001B[0;34m\u001B[0m\u001B[0;34m\u001B[0m\u001B[0m\n",
      "\u001B[0;32m~/Dokumente/Studium/Master/Amsterdam/02_DisSys/Project/CloudScheduling/plotter_4_cloud/DataTransformer.py\u001B[0m in \u001B[0;36mto_makespan_cdf_per_policy\u001B[0;34m(self, trace_key, environment_key, file_name)\u001B[0m\n\u001B[1;32m    110\u001B[0m         \u001B[0mfiltered_data\u001B[0m \u001B[0;34m=\u001B[0m \u001B[0;34m{\u001B[0m\u001B[0;34m}\u001B[0m\u001B[0;34m\u001B[0m\u001B[0;34m\u001B[0m\u001B[0m\n\u001B[1;32m    111\u001B[0m \u001B[0;34m\u001B[0m\u001B[0m\n\u001B[0;32m--> 112\u001B[0;31m         \u001B[0;32mfor\u001B[0m \u001B[0mpolicy_name\u001B[0m\u001B[0;34m,\u001B[0m \u001B[0mpolicy\u001B[0m \u001B[0;32min\u001B[0m \u001B[0mself\u001B[0m\u001B[0;34m.\u001B[0m\u001B[0mdata\u001B[0m\u001B[0;34m[\u001B[0m\u001B[0mtrace_key\u001B[0m\u001B[0;34m]\u001B[0m\u001B[0;34m.\u001B[0m\u001B[0mitems\u001B[0m\u001B[0;34m(\u001B[0m\u001B[0;34m)\u001B[0m\u001B[0;34m:\u001B[0m\u001B[0;34m\u001B[0m\u001B[0;34m\u001B[0m\u001B[0m\n\u001B[0m\u001B[1;32m    113\u001B[0m             \u001B[0;32mif\u001B[0m \u001B[0mpolicy_name\u001B[0m \u001B[0;32mnot\u001B[0m \u001B[0;32min\u001B[0m \u001B[0mfiltered_data\u001B[0m\u001B[0;34m:\u001B[0m\u001B[0;34m\u001B[0m\u001B[0;34m\u001B[0m\u001B[0m\n\u001B[1;32m    114\u001B[0m                 \u001B[0mfiltered_data\u001B[0m\u001B[0;34m[\u001B[0m\u001B[0mpolicy_name\u001B[0m\u001B[0;34m]\u001B[0m \u001B[0;34m=\u001B[0m \u001B[0;34m{\u001B[0m\u001B[0;34m}\u001B[0m\u001B[0;34m\u001B[0m\u001B[0;34m\u001B[0m\u001B[0m\n",
      "\u001B[0;31mKeyError\u001B[0m: 'askalon-ee2-parquet'"
     ]
    }
   ],
   "source": [
    "ecdf_data, ecdf_meta = transformer.to_makespan_cdf_per_policy(\"askalon-ee2-parquet\", \"homogeneous\", \"exp_scale_ecdf.png\")\n",
    "\n",
    "plotters.create_makespan_cdf_order_policy(ecdf_data, ecdf_meta)"
   ]
  },
  {
   "cell_type": "markdown",
   "metadata": {
    "collapsed": false,
    "pycharm": {
     "name": "#%% md\n"
    }
   },
   "source": [
    "# Electricity"
   ]
  },
  {
   "cell_type": "code",
   "execution_count": null,
   "metadata": {
    "collapsed": false,
    "pycharm": {
     "name": "#%%\n"
    }
   },
   "outputs": [],
   "source": [
    "electricity_data, electricity_meta = transformer.to_electricity_scale(\"askalon-ee2-parquet\", \"homogeneous\", \"exp_scale_electricity.png\")\n",
    "\n",
    "plotters.create_energy_plot_scale(electricity_data, electricity_meta)"
   ]
  },
  {
   "cell_type": "markdown",
   "metadata": {
    "collapsed": false,
    "pycharm": {
     "name": "#%% md\n"
    }
   },
   "source": [
    "# Utilization"
   ]
  },
  {
   "cell_type": "code",
   "execution_count": null,
   "metadata": {
    "collapsed": false,
    "pycharm": {
     "name": "#%%\n"
    }
   },
   "outputs": [],
   "source": [
    "utilization_data, utilization_meta = transformer.to_utilization_table(\"askalon-ee2-parquet\", \"homogeneous\", \"exp_scale_utilization.png\")\n",
    "\n",
    "utilization_data"
   ]
  },
  {
   "cell_type": "code",
   "execution_count": null,
   "metadata": {},
   "outputs": [],
   "source": [
    "plotters.create_usage_table_per_env(utilization_data, utilization_meta)"
   ]
  }
 ],
 "metadata": {
  "kernelspec": {
   "display_name": "Python 3",
   "language": "python",
   "name": "python3"
  },
  "language_info": {
   "codemirror_mode": {
    "name": "ipython",
    "version": 3
   },
   "file_extension": ".py",
   "mimetype": "text/x-python",
   "name": "python",
   "nbconvert_exporter": "python",
   "pygments_lexer": "ipython3",
   "version": "3.9.7"
  }
 },
 "nbformat": 4,
 "nbformat_minor": 0
}